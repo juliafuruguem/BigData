{
 "cells": [
  {
   "cell_type": "code",
   "execution_count": 2,
   "id": "c7a8b744",
   "metadata": {},
   "outputs": [],
   "source": [
    "from pyspark.sql import SparkSession"
   ]
  },
  {
   "cell_type": "code",
   "execution_count": null,
   "id": "078e7453",
   "metadata": {},
   "outputs": [
    {
     "name": "stderr",
     "output_type": "stream",
     "text": [
      "25/04/04 23:43:16 WARN Utils: Your hostname, codespaces-a65c79 resolves to a loopback address: 127.0.0.1; using 10.0.4.17 instead (on interface eth0)\n",
      "25/04/04 23:43:16 WARN Utils: Set SPARK_LOCAL_IP if you need to bind to another address\n",
      "Setting default log level to \"WARN\".\n",
      "To adjust logging level use sc.setLogLevel(newLevel). For SparkR, use setLogLevel(newLevel).\n",
      "25/04/04 23:43:17 WARN NativeCodeLoader: Unable to load native-hadoop library for your platform... using builtin-java classes where applicable\n"
     ]
    },
    {
     "name": "stderr",
     "output_type": "stream",
     "text": [
      "25/04/04 23:43:33 WARN GarbageCollectionMetrics: To enable non-built-in garbage collector(s) List(G1 Concurrent GC), users should configure it(them) to spark.eventLog.gcMetrics.youngGenerationGarbageCollectors or spark.eventLog.gcMetrics.oldGenerationGarbageCollectors\n"
     ]
    }
   ],
   "source": [
    "spark = SparkSession.builder.appName(\"DesafioFinalVendas\").getOrCreate()"
   ]
  },
  {
   "cell_type": "code",
   "execution_count": 7,
   "id": "04f1750e",
   "metadata": {},
   "outputs": [
    {
     "name": "stdout",
     "output_type": "stream",
     "text": [
      "+----------+------------+-----------+\n",
      "|id_cliente|valor_compra|data_compra|\n",
      "+----------+------------+-----------+\n",
      "|         1|      150.75| 2023-01-15|\n",
      "|         2|       230.5| 2023-02-20|\n",
      "|         3|       100.0| 2023-03-10|\n",
      "|         4|      450.25| 2023-04-05|\n",
      "|         5|       320.0| 2023-05-22|\n",
      "+----------+------------+-----------+\n",
      "only showing top 5 rows\n",
      "\n"
     ]
    }
   ],
   "source": [
    "# Carregar os dados de vendas a partir de um arquivo CSV\n",
    "df_vendas = spark.read.csv(\"./dados/vendas.csv\", header=True, inferSchema=True)\n",
    "\n",
    "# Exibir as primeiras 5 linhas para entender a estrutura dos dados\n",
    "df_vendas.show(5)\n"
   ]
  },
  {
   "cell_type": "code",
   "execution_count": 8,
   "id": "ed67dee7",
   "metadata": {},
   "outputs": [
    {
     "name": "stdout",
     "output_type": "stream",
     "text": [
      "+----------+------------+\n",
      "|id_cliente|total_compra|\n",
      "+----------+------------+\n",
      "|        10|      1000.0|\n",
      "|         8|       700.5|\n",
      "|         6|      550.75|\n",
      "|         4|      450.25|\n",
      "|         5|       320.0|\n",
      "+----------+------------+\n",
      "only showing top 5 rows\n",
      "\n"
     ]
    }
   ],
   "source": [
    "from pyspark.sql.functions import sum\n",
    "\n",
    "# Agrupar os dados por 'id_cliente' e calcular o valor total de compra de cada cliente\n",
    "df_maior_compra = df_vendas.groupBy(\"id_cliente\").agg(sum(\"valor_compra\").alias(\"total_compra\"))\n",
    "\n",
    "# Ordenar os clientes pelo valor total da compra em ordem decrescente\n",
    "df_maior_compra_ordenado = df_maior_compra.orderBy(\"total_compra\", ascending=False)\n",
    "\n",
    "# Exibir os 5 clientes com maior valor de compra\n",
    "df_maior_compra_ordenado.show(5)\n"
   ]
  },
  {
   "cell_type": "code",
   "execution_count": 9,
   "id": "0cbd4c6c",
   "metadata": {},
   "outputs": [
    {
     "name": "stdout",
     "output_type": "stream",
     "text": [
      "+----+----------------+\n",
      "| ano|total_vendas_ano|\n",
      "+----+----------------+\n",
      "|2023|         3833.75|\n",
      "+----+----------------+\n",
      "\n"
     ]
    }
   ],
   "source": [
    "from pyspark.sql.functions import year\n",
    "\n",
    "# Extrair o ano da coluna 'data_compra'\n",
    "df_vendas_com_ano = df_vendas.withColumn(\"ano\", year(\"data_compra\"))\n",
    "\n",
    "# Agrupar por 'ano' e calcular o total de vendas por ano\n",
    "df_vendas_anuais = df_vendas_com_ano.groupBy(\"ano\").agg(sum(\"valor_compra\").alias(\"total_vendas_ano\"))\n",
    "\n",
    "# Exibir o total de vendas por ano\n",
    "df_vendas_anuais.show()\n"
   ]
  },
  {
   "cell_type": "code",
   "execution_count": 10,
   "id": "828d248d",
   "metadata": {},
   "outputs": [],
   "source": [
    "# Salvar os resultados como CSV\n",
    "df_maior_compra_ordenado.write.csv(\"maior_compra_clientes.csv\", header=True)\n",
    "df_vendas_anuais.write.csv(\"total_vendas_anuais.csv\", header=True)\n"
   ]
  },
  {
   "cell_type": "code",
   "execution_count": 11,
   "id": "ebc248c5",
   "metadata": {},
   "outputs": [],
   "source": [
    "# Salvar os resultados como JSON\n",
    "df_maior_compra_ordenado.write.json(\"maior_compra_clientes.json\")\n",
    "df_vendas_anuais.write.json(\"total_vendas_anuais.json\")\n"
   ]
  }
 ],
 "metadata": {
  "kernelspec": {
   "display_name": "Python 3",
   "language": "python",
   "name": "python3"
  },
  "language_info": {
   "codemirror_mode": {
    "name": "ipython",
    "version": 3
   },
   "file_extension": ".py",
   "mimetype": "text/x-python",
   "name": "python",
   "nbconvert_exporter": "python",
   "pygments_lexer": "ipython3",
   "version": "3.12.1"
  }
 },
 "nbformat": 4,
 "nbformat_minor": 5
}
